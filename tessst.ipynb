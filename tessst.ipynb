{
 "cells": [
  {
   "cell_type": "code",
   "execution_count": 1,
   "metadata": {},
   "outputs": [
    {
     "ename": "ModuleNotFoundError",
     "evalue": "No module named 'scholarly'",
     "output_type": "error",
     "traceback": [
      "\u001b[1;31m---------------------------------------------------------------------------\u001b[0m",
      "\u001b[1;31mModuleNotFoundError\u001b[0m                       Traceback (most recent call last)",
      "Cell \u001b[1;32mIn[1], line 1\u001b[0m\n\u001b[1;32m----> 1\u001b[0m \u001b[38;5;28;01mfrom\u001b[39;00m \u001b[38;5;21;01mscholarly\u001b[39;00m \u001b[38;5;28;01mimport\u001b[39;00m scholarly\n\u001b[0;32m      2\u001b[0m \u001b[38;5;28;01mimport\u001b[39;00m \u001b[38;5;21;01mrequests\u001b[39;00m\n\u001b[0;32m      4\u001b[0m \u001b[38;5;66;03m# Search Google Scholar and refine results using CrossRef API\u001b[39;00m\n",
      "\u001b[1;31mModuleNotFoundError\u001b[0m: No module named 'scholarly'"
     ]
    }
   ],
   "source": [
    "import scholarly\n",
    "import requests\n",
    "\n",
    "# Search Google Scholar and refine results using CrossRef API\n",
    "def search_papers_combined(query, num_results=5):\n",
    "    # Step 1: Search Google Scholar\n",
    "    search_query = scholarly.search_pubs(query)\n",
    "\n",
    "    for i in range(num_results):\n",
    "        try:\n",
    "            pub = next(search_query)\n",
    "            title = pub.get('bib', {}).get('title', None)\n",
    "            \n",
    "            if title:\n",
    "                # Step 2: Search CrossRef by title\n",
    "                crossref_url = \"https://api.crossref.org/works\"\n",
    "                params = {\n",
    "                    \"query.bibliographic\": title,\n",
    "                    \"rows\": 1,\n",
    "                }\n",
    "                response = requests.get(crossref_url, params=params)\n",
    "                \n",
    "                if response.status_code == 200:\n",
    "                    crossref_data = response.json()\n",
    "                    if crossref_data['message']['items']:\n",
    "                        item = crossref_data['message']['items'][0]\n",
    "                        doi = item.get('DOI', 'No DOI available')\n",
    "                        crossref_title = item.get('title', [\"No title available\"])[0]\n",
    "                        url = f\"https://doi.org/{doi}\"\n",
    "\n",
    "                        print(f\"Title: {crossref_title}\\nDOI: {doi}\\nLink: {url}\\n\")\n",
    "\n",
    "                else:\n",
    "                    print(f\"Error: Received status code {response.status_code} from CrossRef API\")\n",
    "\n",
    "        except StopIteration:\n",
    "            print(\"No more results found.\")\n",
    "            break\n",
    "\n",
    "# Example usage\n",
    "search_papers_combined(\"machine learning and cancer\", num_results=3)\n"
   ]
  }
 ],
 "metadata": {
  "kernelspec": {
   "display_name": "Python 3",
   "language": "python",
   "name": "python3"
  },
  "language_info": {
   "codemirror_mode": {
    "name": "ipython",
    "version": 3
   },
   "file_extension": ".py",
   "mimetype": "text/x-python",
   "name": "python",
   "nbconvert_exporter": "python",
   "pygments_lexer": "ipython3",
   "version": "3.12.7"
  }
 },
 "nbformat": 4,
 "nbformat_minor": 2
}
